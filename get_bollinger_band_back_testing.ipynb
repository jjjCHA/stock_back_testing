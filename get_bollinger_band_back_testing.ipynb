{
 "cells": [
  {
   "cell_type": "code",
   "execution_count": 1,
   "metadata": {},
   "outputs": [],
   "source": [
    "import FinanceDataReader as fdr"
   ]
  },
  {
   "cell_type": "code",
   "execution_count": 24,
   "metadata": {},
   "outputs": [],
   "source": [
    "import pandas as pd\n",
    "import numpy as np"
   ]
  },
  {
   "cell_type": "code",
   "execution_count": 181,
   "metadata": {},
   "outputs": [],
   "source": [
    "def get_bollinger_band_back_testing(symbol=\"005930\", start_date=\"1990-01-01\"):\n",
    "    df = fdr.DataReader(symbol, start=start_date)\n",
    "    current_price = df[\"Close\"].iloc[-1]\n",
    "\n",
    "    df[\"M20\"] = df[\"Close\"].rolling(20).mean()\n",
    "    df[\"std\"] = df[\"Close\"].rolling(20).std()\n",
    "    df[\"HighLine\"] = df[\"M20\"] + df[\"std\"] * 2\n",
    "    df[\"LowLine\"] = df[\"M20\"] - df[\"std\"] * 2\n",
    "    cond = df[\"Close\"] <= df[\"LowLine\"]\n",
    "    close_cond = df.loc[cond, \"Close\"]\n",
    "    \n",
    "    buy_dict = dict()\n",
    "    for date, close in close_cond.items():\n",
    "        date = \"_\".join([str(date.year), str(date.month)]) # 2020_10 year_month\n",
    "        if date not in buy_dict:\n",
    "            buy_dict[date] = close\n",
    "    date_list = list(buy_dict.keys())\n",
    "    close_list = list(buy_dict.values())\n",
    "    _start_date = start_date[:7].replace(\"-\", \"_\")\n",
    "    bought_dict = {\"num\": 0, \"total_buy_price\": 0}\n",
    "\n",
    "    for idx in range(len(close_list)):\n",
    "        date = date_list[idx]\n",
    "\n",
    "        if idx == 0:\n",
    "            before_date = _start_date\n",
    "        else:\n",
    "            before_date = date_list[idx-1]\n",
    "\n",
    "        year = int(date.split(\"_\")[0])\n",
    "        month = int(date.split(\"_\")[1])\n",
    "        before_year = int(before_date.split(\"_\")[0])\n",
    "        before_month = int(before_date.split(\"_\")[1])\n",
    "\n",
    "        dif_year = year - before_year\n",
    "        dif_month = month - before_month\n",
    "\n",
    "        dif_month = dif_year * 12 + dif_month\n",
    "\n",
    "        bought_dict[\"num\"] += dif_month\n",
    "        bought_dict[\"total_buy_price\"] += dif_month*close_list[idx]\n",
    "    bought_dict[\"AP\"] = int(bought_dict[\"total_buy_price\"] / bought_dict[\"num\"])\n",
    "    bought_dict[\"CP\"] = current_price\n",
    "    bought_dict[\"profit_rate\"] = round((bought_dict[\"CP\"]-bought_dict[\"AP\"])/bought_dict[\"AP\"]*100, 2)\n",
    "    bought_dict[\"profit\"] = int(bought_dict[\"total_buy_price\"]*bought_dict[\"profit_rate\"]/100)\n",
    "    \n",
    "    for key, value in bought_dict.items():\n",
    "        suffix = \"\"\n",
    "        prefix = \"\"\n",
    "        \n",
    "        if key in [\"total_buy_price\", \"AP\", \"CP\", \"profit\"]:\n",
    "            suffix = \"원\"\n",
    "        \n",
    "        elif key in [\"num\"]:\n",
    "            suffix = \"주\"\n",
    "        \n",
    "        elif key in [\"profit_rate\"]:\n",
    "            suffix = \"%\"\n",
    "        \n",
    "        if key in [\"profit_rate\", \"profit\"]:\n",
    "            if value > 0:\n",
    "                prefix = \"+\"\n",
    "        \n",
    "        value = prefix+format(value, \",\")+suffix\n",
    "        bought_dict[key] = value\n",
    "    return bought_dict"
   ]
  },
  {
   "cell_type": "code",
   "execution_count": 182,
   "metadata": {},
   "outputs": [
    {
     "data": {
      "text/plain": [
       "{'num': '21주',\n",
       " 'total_buy_price': '577,181원',\n",
       " 'AP': '27,484원',\n",
       " 'CP': '21,500원',\n",
       " 'profit_rate': '-21.77%',\n",
       " 'profit': '-125,652원'}"
      ]
     },
     "execution_count": 182,
     "metadata": {},
     "output_type": "execute_result"
    }
   ],
   "source": [
    "get_bollinger_band_back_testing(\"079160\", \"2019-01-01\")"
   ]
  },
  {
   "cell_type": "code",
   "execution_count": null,
   "metadata": {},
   "outputs": [],
   "source": []
  },
  {
   "cell_type": "code",
   "execution_count": null,
   "metadata": {},
   "outputs": [],
   "source": []
  },
  {
   "cell_type": "code",
   "execution_count": null,
   "metadata": {},
   "outputs": [],
   "source": []
  },
  {
   "cell_type": "code",
   "execution_count": null,
   "metadata": {},
   "outputs": [],
   "source": []
  },
  {
   "cell_type": "code",
   "execution_count": null,
   "metadata": {},
   "outputs": [],
   "source": []
  }
 ],
 "metadata": {
  "kernelspec": {
   "display_name": "Python 3",
   "language": "python",
   "name": "python3"
  },
  "language_info": {
   "codemirror_mode": {
    "name": "ipython",
    "version": 3
   },
   "file_extension": ".py",
   "mimetype": "text/x-python",
   "name": "python",
   "nbconvert_exporter": "python",
   "pygments_lexer": "ipython3",
   "version": "3.8.3"
  }
 },
 "nbformat": 4,
 "nbformat_minor": 4
}
