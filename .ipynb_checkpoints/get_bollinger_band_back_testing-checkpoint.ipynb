{
 "cells": [
  {
   "cell_type": "code",
   "execution_count": 1,
   "metadata": {},
   "outputs": [],
   "source": [
    "import FinanceDataReader as fdr"
   ]
  },
  {
   "cell_type": "code",
   "execution_count": 2,
   "metadata": {},
   "outputs": [],
   "source": [
    "import pandas as pd\n",
    "import numpy as np\n",
    "import os\n",
    "import os.path as osp\n",
    "import datetime\n",
    "import shutil"
   ]
  },
  {
   "cell_type": "code",
   "execution_count": 3,
   "metadata": {},
   "outputs": [],
   "source": [
    "def get_name(symbol, market=\"KRX\"):\n",
    "    root = \"dataset/stock_list\"\n",
    "    \n",
    "    today = datetime.datetime.now()\n",
    "    today = datetime.datetime.strftime(today, \"%Y_%m_%d\")\n",
    "    \n",
    "    filename = \"stock_list_\" + today + \".xlsx\"\n",
    "    save_path = osp.join(root, filename)\n",
    "    \n",
    "    if not osp.isfile(save_path):\n",
    "        if osp.exists(root):\n",
    "            shutil.rmtree(root)\n",
    "        os.mkdir(root)\n",
    "        df = fdr.StockListing(\"KRX\")\n",
    "        df.set_index(\"Symbol\", inplace=True)\n",
    "        name = df.loc[\"060310\", \"Name\"]\n",
    "        df.to_excel(save_path)\n",
    "    \n",
    "    else:\n",
    "        df = pd.read_excel(save_path, index_col=\"Symbol\")\n",
    "        name = df.loc[symbol, \"Name\"]\n",
    "        \n",
    "    return name"
   ]
  },
  {
   "cell_type": "code",
   "execution_count": 4,
   "metadata": {},
   "outputs": [],
   "source": [
    "def get_exists_excel(symbol, start_date, end_date):\n",
    "    if end_date is None:\n",
    "        end_date = datetime.datetime.now()\n",
    "        end_date = datetime.datetime.strftime(end_date, \"%Y-%m-%d\")\n",
    "        \n",
    "    root = \"dataset\"\n",
    "    filename = \"_\".join([symbol, start_date.replace(\"-\", \"_\"), end_date.replace(\"-\", \"_\")]) + \".xlsx\"\n",
    "    save_path = osp.join(root, filename)\n",
    "    \n",
    "    if osp.isfile(save_path):\n",
    "        is_exsists = True\n",
    "        df = pd.read_excel(save_path, index_col=\"Date\")\n",
    "        \n",
    "    else:\n",
    "        is_exsists = False\n",
    "        df = None\n",
    "        \n",
    "    return is_exsists, df"
   ]
  },
  {
   "cell_type": "code",
   "execution_count": 5,
   "metadata": {},
   "outputs": [],
   "source": [
    "def save_excel(df, symbol, start_date, end_date):\n",
    "    if end_date is None:\n",
    "        end_date = datetime.datetime.now()\n",
    "        end_date = datetime.datetime.strftime(end_date, \"%Y-%m-%d\")\n",
    "        \n",
    "    root = \"dataset\"\n",
    "    if not osp.exists(root):\n",
    "        os.mkdir(root)\n",
    "        \n",
    "    filename = \"_\".join([symbol, start_date.replace(\"-\", \"_\"), end_date.replace(\"-\", \"_\")]) + \".xlsx\"\n",
    "    save_path = osp.join(root, filename)\n",
    "    df.to_excel(save_path)"
   ]
  },
  {
   "cell_type": "code",
   "execution_count": 6,
   "metadata": {},
   "outputs": [],
   "source": [
    "def get_bollinger_band_back_testing(symbol=\"005930\", start_date=\"1990-01-01\", end_date=None, market=\"KRX\"):\n",
    "    is_exsists, df = get_exists_excel(symbol, start_date, end_date)\n",
    "    if not is_exsists:\n",
    "        df = fdr.DataReader(symbol, start=start_date, end=end_date)\n",
    "        df[\"M20\"] = df[\"Close\"].rolling(20).mean()\n",
    "        df[\"std\"] = df[\"Close\"].rolling(20).std()\n",
    "        df[\"HighLine\"] = df[\"M20\"] + df[\"std\"] * 2\n",
    "        df[\"LowLine\"] = df[\"M20\"] - df[\"std\"] * 2\n",
    "        save_excel(df, symbol, start_date, end_date)\n",
    "        \n",
    "    cond = df[\"Close\"] <= df[\"LowLine\"]\n",
    "    close_cond = df.loc[cond, \"Close\"]\n",
    "    current_price = df[\"Close\"].iloc[-1]\n",
    "    \n",
    "    buy_dict = dict()\n",
    "    for date, close in close_cond.items():\n",
    "        date = \"_\".join([str(date.year), str(date.month)]) # 2020_10 year_month\n",
    "        if date not in buy_dict:\n",
    "            buy_dict[date] = close\n",
    "    date_list = list(buy_dict.keys())\n",
    "    close_list = list(buy_dict.values())\n",
    "    _start_date = start_date[:7].replace(\"-\", \"_\")\n",
    "    name = get_name(symbol, market)\n",
    "    bought_dict = {\"종목명\": name, \"종목코드\": symbol, \"보유수량\": 0, \"매입금액\": 0}\n",
    "\n",
    "    for idx in range(len(close_list)):\n",
    "        date = date_list[idx]\n",
    "\n",
    "        if idx == 0:\n",
    "            before_date = _start_date\n",
    "        else:\n",
    "            before_date = date_list[idx-1]\n",
    "\n",
    "        year = int(date.split(\"_\")[0])\n",
    "        month = int(date.split(\"_\")[1])\n",
    "        before_year = int(before_date.split(\"_\")[0])\n",
    "        before_month = int(before_date.split(\"_\")[1])\n",
    "\n",
    "        dif_year = year - before_year\n",
    "        dif_month = month - before_month\n",
    "\n",
    "        dif_month = dif_year * 12 + dif_month\n",
    "\n",
    "        bought_dict[\"보유수량\"] += dif_month\n",
    "        bought_dict[\"매입금액\"] += dif_month*close_list[idx]\n",
    "    bought_dict[\"평균단가\"] = int(bought_dict[\"매입금액\"] / bought_dict[\"보유수량\"])\n",
    "    bought_dict[\"현재가\"] = current_price\n",
    "    bought_dict[\"수익률\"] = round((bought_dict[\"현재가\"]-bought_dict[\"평균단가\"])/bought_dict[\"평균단가\"]*100, 2)\n",
    "    bought_dict[\"평가손익\"] = int(bought_dict[\"매입금액\"]*bought_dict[\"수익률\"]/100)\n",
    "    \n",
    "    for key, value in bought_dict.items():\n",
    "        if key in [\"종목명\", \"종목코드\"]:\n",
    "            continue\n",
    "        suffix = \"\"\n",
    "        prefix = \"\"\n",
    "        \n",
    "        if key in [\"매입금액\", \"평균단가\", \"현재가\", \"평가손익\"]:\n",
    "            suffix = \"원\"\n",
    "        \n",
    "        elif key in [\"보유수량\"]:\n",
    "            suffix = \"주\"\n",
    "        \n",
    "        elif key in [\"수익률\"]:\n",
    "            suffix = \"%\"\n",
    "        \n",
    "        if key in [\"수익률\", \"평가손익\"]:\n",
    "            if value > 0:\n",
    "                prefix = \"+\"\n",
    "        \n",
    "        value = prefix+format(value, \",\")+suffix\n",
    "        bought_dict[key] = value\n",
    "    return bought_dict"
   ]
  },
  {
   "cell_type": "code",
   "execution_count": 7,
   "metadata": {},
   "outputs": [
    {
     "data": {
      "text/plain": [
       "{'종목명': 'CJ CGV',\n",
       " '종목코드': '079160',\n",
       " '보유수량': '11주',\n",
       " '매입금액': '366,414원',\n",
       " '평균단가': '33,310원',\n",
       " '현재가': '31,340원',\n",
       " '수익률': '-5.91%',\n",
       " '평가손익': '-21,655원'}"
      ]
     },
     "execution_count": 7,
     "metadata": {},
     "output_type": "execute_result"
    }
   ],
   "source": [
    "get_bollinger_band_back_testing(\"079160\", \"2019-01-01\")"
   ]
  }
 ],
 "metadata": {
  "kernelspec": {
   "display_name": "Python 3",
   "language": "python",
   "name": "python3"
  },
  "language_info": {
   "codemirror_mode": {
    "name": "ipython",
    "version": 3
   },
   "file_extension": ".py",
   "mimetype": "text/x-python",
   "name": "python",
   "nbconvert_exporter": "python",
   "pygments_lexer": "ipython3",
   "version": "3.8.3"
  }
 },
 "nbformat": 4,
 "nbformat_minor": 4
}
